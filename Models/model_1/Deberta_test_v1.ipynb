{
 "cells": [
  {
   "cell_type": "code",
   "execution_count": 1,
   "id": "e492fc9e",
   "metadata": {
    "_cell_guid": "b1076dfc-b9ad-4769-8c92-a6c4dae69d19",
    "_uuid": "8f2839f25d086af736a60e9eeb907d3b93b6e0e5",
    "execution": {
     "iopub.execute_input": "2023-11-27T02:19:40.715246Z",
     "iopub.status.busy": "2023-11-27T02:19:40.714875Z",
     "iopub.status.idle": "2023-11-27T02:19:41.531427Z",
     "shell.execute_reply": "2023-11-27T02:19:41.530432Z"
    },
    "papermill": {
     "duration": 0.83035,
     "end_time": "2023-11-27T02:19:41.533906",
     "exception": false,
     "start_time": "2023-11-27T02:19:40.703556",
     "status": "completed"
    },
    "tags": []
   },
   "outputs": [
    {
     "name": "stdout",
     "output_type": "stream",
     "text": [
      "/kaggle/input/llm-detect-ai-generated-text/sample_submission.csv\n",
      "/kaggle/input/llm-detect-ai-generated-text/train_prompts.csv\n",
      "/kaggle/input/llm-detect-ai-generated-text/test_essays.csv\n",
      "/kaggle/input/llm-detect-ai-generated-text/train_essays.csv\n",
      "/kaggle/input/argugpt/argugpt.csv\n",
      "/kaggle/input/argugpt/machine-dev.csv\n",
      "/kaggle/input/argugpt/machine-test.csv\n",
      "/kaggle/input/argugpt/machine-train.csv\n",
      "/kaggle/input/daigt-proper-train-dataset/train_drcat_03.csv\n",
      "/kaggle/input/daigt-proper-train-dataset/train_drcat_02.csv\n",
      "/kaggle/input/daigt-proper-train-dataset/train_drcat_04.csv\n",
      "/kaggle/input/daigt-proper-train-dataset/train_drcat_01.csv\n",
      "/kaggle/input/d/leesyyyy/models2/vocab.spm\n"
     ]
    }
   ],
   "source": [
    "# This Python 3 environment comes with many helpful analytics libraries installed\n",
    "# It is defined by the kaggle/python Docker image: https://github.com/kaggle/docker-python\n",
    "# For example, here's several helpful packages to load\n",
    "\n",
    "import numpy as np # linear algebra\n",
    "import pandas as pd # data processing, CSV file I/O (e.g. pd.read_csv)\n",
    "\n",
    "# Input data files are available in the read-only \"../input/\" directory\n",
    "# For example, running this (by clicking run or pressing Shift+Enter) will list all files under the input directory\n",
    "\n",
    "import os\n",
    "for dirname, _, filenames in os.walk('/kaggle/input'):\n",
    "    for filename in filenames:\n",
    "        print(os.path.join(dirname, filename))\n",
    "\n",
    "# You can write up to 20GB to the current directory (/kaggle/working/) that gets preserved as output when you create a version using \"Save & Run All\" \n",
    "# You can also write temporary files to /kaggle/temp/, but they won't be saved outside of the current session"
   ]
  },
  {
   "cell_type": "code",
   "execution_count": 2,
   "id": "6d1fd47f",
   "metadata": {
    "execution": {
     "iopub.execute_input": "2023-11-27T02:19:41.555464Z",
     "iopub.status.busy": "2023-11-27T02:19:41.555081Z",
     "iopub.status.idle": "2023-11-27T02:19:59.620811Z",
     "shell.execute_reply": "2023-11-27T02:19:59.619972Z"
    },
    "papermill": {
     "duration": 18.078982,
     "end_time": "2023-11-27T02:19:59.623301",
     "exception": false,
     "start_time": "2023-11-27T02:19:41.544319",
     "status": "completed"
    },
    "tags": []
   },
   "outputs": [
    {
     "name": "stderr",
     "output_type": "stream",
     "text": [
      "/opt/conda/lib/python3.10/site-packages/scipy/__init__.py:146: UserWarning: A NumPy version >=1.16.5 and <1.23.0 is required for this version of SciPy (detected version 1.24.3\n",
      "  warnings.warn(f\"A NumPy version >={np_minversion} and <{np_maxversion}\"\n"
     ]
    },
    {
     "name": "stdout",
     "output_type": "stream",
     "text": [
      "Using PyTorch backend.\n"
     ]
    }
   ],
   "source": [
    "import pandas as pd\n",
    "import os\n",
    "os.environ[\"KERAS_BACKEND\"] = \"torch\"\n",
    "import torch\n",
    "import tensorflow as tf\n",
    "import numpy as np \n",
    "import matplotlib.pyplot as plt\n",
    "import keras_nlp\n",
    "import keras_core as keras\n",
    "import keras_core.backend as K"
   ]
  },
  {
   "cell_type": "code",
   "execution_count": 3,
   "id": "7fedf988",
   "metadata": {
    "execution": {
     "iopub.execute_input": "2023-11-27T02:19:59.645426Z",
     "iopub.status.busy": "2023-11-27T02:19:59.644814Z",
     "iopub.status.idle": "2023-11-27T02:20:07.323238Z",
     "shell.execute_reply": "2023-11-27T02:20:07.322403Z"
    },
    "papermill": {
     "duration": 7.691483,
     "end_time": "2023-11-27T02:20:07.325312",
     "exception": false,
     "start_time": "2023-11-27T02:19:59.633829",
     "status": "completed"
    },
    "tags": []
   },
   "outputs": [
    {
     "data": {
      "text/plain": [
       "<tensorflow.python.distribute.mirrored_strategy.MirroredStrategy at 0x7f532e0c6dd0>"
      ]
     },
     "execution_count": 3,
     "metadata": {},
     "output_type": "execute_result"
    }
   ],
   "source": [
    "gpus = tf.config.list_logical_devices('GPU')\n",
    "strategy = tf.distribute.MirroredStrategy(gpus)\n",
    "strategy"
   ]
  },
  {
   "cell_type": "code",
   "execution_count": 4,
   "id": "a5e0d503",
   "metadata": {
    "execution": {
     "iopub.execute_input": "2023-11-27T02:20:07.347441Z",
     "iopub.status.busy": "2023-11-27T02:20:07.347108Z",
     "iopub.status.idle": "2023-11-27T02:20:07.552528Z",
     "shell.execute_reply": "2023-11-27T02:20:07.551545Z"
    },
    "papermill": {
     "duration": 0.219019,
     "end_time": "2023-11-27T02:20:07.554755",
     "exception": false,
     "start_time": "2023-11-27T02:20:07.335736",
     "status": "completed"
    },
    "tags": []
   },
   "outputs": [
    {
     "data": {
      "text/html": [
       "<div>\n",
       "<style scoped>\n",
       "    .dataframe tbody tr th:only-of-type {\n",
       "        vertical-align: middle;\n",
       "    }\n",
       "\n",
       "    .dataframe tbody tr th {\n",
       "        vertical-align: top;\n",
       "    }\n",
       "\n",
       "    .dataframe thead th {\n",
       "        text-align: right;\n",
       "    }\n",
       "</style>\n",
       "<table border=\"1\" class=\"dataframe\">\n",
       "  <thead>\n",
       "    <tr style=\"text-align: right;\">\n",
       "      <th></th>\n",
       "      <th>id</th>\n",
       "      <th>prompt_id</th>\n",
       "      <th>text</th>\n",
       "      <th>generated</th>\n",
       "      <th>label</th>\n",
       "    </tr>\n",
       "  </thead>\n",
       "  <tbody>\n",
       "    <tr>\n",
       "      <th>0</th>\n",
       "      <td>0059830c</td>\n",
       "      <td>0</td>\n",
       "      <td>Cars. Cars have been around since they became ...</td>\n",
       "      <td>0</td>\n",
       "      <td>0</td>\n",
       "    </tr>\n",
       "    <tr>\n",
       "      <th>1</th>\n",
       "      <td>005db917</td>\n",
       "      <td>0</td>\n",
       "      <td>Transportation is a large necessity in most co...</td>\n",
       "      <td>0</td>\n",
       "      <td>0</td>\n",
       "    </tr>\n",
       "    <tr>\n",
       "      <th>2</th>\n",
       "      <td>008f63e3</td>\n",
       "      <td>0</td>\n",
       "      <td>\"America's love affair with it's vehicles seem...</td>\n",
       "      <td>0</td>\n",
       "      <td>0</td>\n",
       "    </tr>\n",
       "    <tr>\n",
       "      <th>3</th>\n",
       "      <td>00940276</td>\n",
       "      <td>0</td>\n",
       "      <td>How often do you ride in a car? Do you drive a...</td>\n",
       "      <td>0</td>\n",
       "      <td>0</td>\n",
       "    </tr>\n",
       "    <tr>\n",
       "      <th>4</th>\n",
       "      <td>00c39458</td>\n",
       "      <td>0</td>\n",
       "      <td>Cars are a wonderful thing. They are perhaps o...</td>\n",
       "      <td>0</td>\n",
       "      <td>0</td>\n",
       "    </tr>\n",
       "    <tr>\n",
       "      <th>...</th>\n",
       "      <td>...</td>\n",
       "      <td>...</td>\n",
       "      <td>...</td>\n",
       "      <td>...</td>\n",
       "      <td>...</td>\n",
       "    </tr>\n",
       "    <tr>\n",
       "      <th>1373</th>\n",
       "      <td>fe6ff9a5</td>\n",
       "      <td>1</td>\n",
       "      <td>There has been a fuss about the Elector Colleg...</td>\n",
       "      <td>0</td>\n",
       "      <td>0</td>\n",
       "    </tr>\n",
       "    <tr>\n",
       "      <th>1374</th>\n",
       "      <td>ff669174</td>\n",
       "      <td>0</td>\n",
       "      <td>Limiting car usage has many advantages. Such a...</td>\n",
       "      <td>0</td>\n",
       "      <td>0</td>\n",
       "    </tr>\n",
       "    <tr>\n",
       "      <th>1375</th>\n",
       "      <td>ffa247e0</td>\n",
       "      <td>0</td>\n",
       "      <td>There's a new trend that has been developing f...</td>\n",
       "      <td>0</td>\n",
       "      <td>0</td>\n",
       "    </tr>\n",
       "    <tr>\n",
       "      <th>1376</th>\n",
       "      <td>ffc237e9</td>\n",
       "      <td>0</td>\n",
       "      <td>As we all know cars are a big part of our soci...</td>\n",
       "      <td>0</td>\n",
       "      <td>0</td>\n",
       "    </tr>\n",
       "    <tr>\n",
       "      <th>1377</th>\n",
       "      <td>ffe1ca0d</td>\n",
       "      <td>0</td>\n",
       "      <td>Cars have been around since the 1800's and hav...</td>\n",
       "      <td>0</td>\n",
       "      <td>0</td>\n",
       "    </tr>\n",
       "  </tbody>\n",
       "</table>\n",
       "<p>1378 rows × 5 columns</p>\n",
       "</div>"
      ],
      "text/plain": [
       "            id  prompt_id                                               text  \\\n",
       "0     0059830c          0  Cars. Cars have been around since they became ...   \n",
       "1     005db917          0  Transportation is a large necessity in most co...   \n",
       "2     008f63e3          0  \"America's love affair with it's vehicles seem...   \n",
       "3     00940276          0  How often do you ride in a car? Do you drive a...   \n",
       "4     00c39458          0  Cars are a wonderful thing. They are perhaps o...   \n",
       "...        ...        ...                                                ...   \n",
       "1373  fe6ff9a5          1  There has been a fuss about the Elector Colleg...   \n",
       "1374  ff669174          0  Limiting car usage has many advantages. Such a...   \n",
       "1375  ffa247e0          0  There's a new trend that has been developing f...   \n",
       "1376  ffc237e9          0  As we all know cars are a big part of our soci...   \n",
       "1377  ffe1ca0d          0  Cars have been around since the 1800's and hav...   \n",
       "\n",
       "      generated  label  \n",
       "0             0      0  \n",
       "1             0      0  \n",
       "2             0      0  \n",
       "3             0      0  \n",
       "4             0      0  \n",
       "...         ...    ...  \n",
       "1373          0      0  \n",
       "1374          0      0  \n",
       "1375          0      0  \n",
       "1376          0      0  \n",
       "1377          0      0  \n",
       "\n",
       "[1378 rows x 5 columns]"
      ]
     },
     "execution_count": 4,
     "metadata": {},
     "output_type": "execute_result"
    }
   ],
   "source": [
    "train_data=pd.read_csv('/kaggle/input/llm-detect-ai-generated-text/train_essays.csv')\n",
    "train_data['label'] = train_data.generated.copy()\n",
    "# print(set(train_data['source']))\n",
    "train_data"
   ]
  },
  {
   "cell_type": "code",
   "execution_count": 5,
   "id": "daa49139",
   "metadata": {
    "execution": {
     "iopub.execute_input": "2023-11-27T02:20:07.579431Z",
     "iopub.status.busy": "2023-11-27T02:20:07.578600Z",
     "iopub.status.idle": "2023-11-27T02:20:07.588713Z",
     "shell.execute_reply": "2023-11-27T02:20:07.587831Z"
    },
    "papermill": {
     "duration": 0.023845,
     "end_time": "2023-11-27T02:20:07.590731",
     "exception": false,
     "start_time": "2023-11-27T02:20:07.566886",
     "status": "completed"
    },
    "tags": []
   },
   "outputs": [],
   "source": [
    "keras.utils.set_random_seed(42)"
   ]
  },
  {
   "cell_type": "code",
   "execution_count": 6,
   "id": "fddff4b0",
   "metadata": {
    "execution": {
     "iopub.execute_input": "2023-11-27T02:20:07.612958Z",
     "iopub.status.busy": "2023-11-27T02:20:07.612696Z",
     "iopub.status.idle": "2023-11-27T02:20:10.542914Z",
     "shell.execute_reply": "2023-11-27T02:20:10.541763Z"
    },
    "papermill": {
     "duration": 2.944177,
     "end_time": "2023-11-27T02:20:10.545527",
     "exception": false,
     "start_time": "2023-11-27T02:20:07.601350",
     "status": "completed"
    },
    "tags": []
   },
   "outputs": [
    {
     "data": {
      "text/html": [
       "<div>\n",
       "<style scoped>\n",
       "    .dataframe tbody tr th:only-of-type {\n",
       "        vertical-align: middle;\n",
       "    }\n",
       "\n",
       "    .dataframe tbody tr th {\n",
       "        vertical-align: top;\n",
       "    }\n",
       "\n",
       "    .dataframe thead th {\n",
       "        text-align: right;\n",
       "    }\n",
       "</style>\n",
       "<table border=\"1\" class=\"dataframe\">\n",
       "  <thead>\n",
       "    <tr style=\"text-align: right;\">\n",
       "      <th></th>\n",
       "      <th>essay_id</th>\n",
       "      <th>text</th>\n",
       "      <th>label</th>\n",
       "      <th>source</th>\n",
       "      <th>prompt</th>\n",
       "      <th>fold</th>\n",
       "    </tr>\n",
       "  </thead>\n",
       "  <tbody>\n",
       "    <tr>\n",
       "      <th>20120</th>\n",
       "      <td>83BB96F966DB</td>\n",
       "      <td>Students would benefit from being able to atte...</td>\n",
       "      <td>0</td>\n",
       "      <td>persuade_corpus</td>\n",
       "      <td>NaN</td>\n",
       "      <td>2</td>\n",
       "    </tr>\n",
       "    <tr>\n",
       "      <th>43529</th>\n",
       "      <td>80D6E256AA49</td>\n",
       "      <td>Landform or alien? The face on Mars looks pret...</td>\n",
       "      <td>0</td>\n",
       "      <td>persuade_corpus</td>\n",
       "      <td>NaN</td>\n",
       "      <td>2</td>\n",
       "    </tr>\n",
       "    <tr>\n",
       "      <th>2942</th>\n",
       "      <td>4A028F63CFCA</td>\n",
       "      <td>The human body is a complex network of muscles...</td>\n",
       "      <td>0</td>\n",
       "      <td>persuade_corpus</td>\n",
       "      <td>NaN</td>\n",
       "      <td>7</td>\n",
       "    </tr>\n",
       "    <tr>\n",
       "      <th>2977</th>\n",
       "      <td>5782F64504B9</td>\n",
       "      <td>Summer projects are a means by which schools a...</td>\n",
       "      <td>0</td>\n",
       "      <td>persuade_corpus</td>\n",
       "      <td>NaN</td>\n",
       "      <td>9</td>\n",
       "    </tr>\n",
       "    <tr>\n",
       "      <th>31921</th>\n",
       "      <td>97DD2D770B03</td>\n",
       "      <td>Dear Mr. Senator,\\n\\nI have decided to express...</td>\n",
       "      <td>0</td>\n",
       "      <td>persuade_corpus</td>\n",
       "      <td>NaN</td>\n",
       "      <td>6</td>\n",
       "    </tr>\n",
       "    <tr>\n",
       "      <th>...</th>\n",
       "      <td>...</td>\n",
       "      <td>...</td>\n",
       "      <td>...</td>\n",
       "      <td>...</td>\n",
       "      <td>...</td>\n",
       "      <td>...</td>\n",
       "    </tr>\n",
       "    <tr>\n",
       "      <th>44190</th>\n",
       "      <td>falcon_180b_v1_261</td>\n",
       "      <td>I think it's a good idea for schools to have o...</td>\n",
       "      <td>1</td>\n",
       "      <td>falcon_180b_v1</td>\n",
       "      <td>Some schools have implemented policies that al...</td>\n",
       "      <td>0</td>\n",
       "    </tr>\n",
       "    <tr>\n",
       "      <th>44195</th>\n",
       "      <td>BDF13939FA26</td>\n",
       "      <td>Students often debate whether inactivity or s...</td>\n",
       "      <td>1</td>\n",
       "      <td>mistral7binstruct_v2</td>\n",
       "      <td>\\nTask: Research the benefits of staying occup...</td>\n",
       "      <td>3</td>\n",
       "    </tr>\n",
       "    <tr>\n",
       "      <th>44197</th>\n",
       "      <td>1ed36fd42635_04112023</td>\n",
       "      <td>The Seagoing Cowboys program is an amazing opp...</td>\n",
       "      <td>1</td>\n",
       "      <td>darragh_claude_v6</td>\n",
       "      <td>NaN</td>\n",
       "      <td>5</td>\n",
       "    </tr>\n",
       "    <tr>\n",
       "      <th>44199</th>\n",
       "      <td>d8f15f7d</td>\n",
       "      <td>Advantages of Limiting Car Usage\\n\\nLimiting c...</td>\n",
       "      <td>1</td>\n",
       "      <td>radek_500</td>\n",
       "      <td>NaN</td>\n",
       "      <td>0</td>\n",
       "    </tr>\n",
       "    <tr>\n",
       "      <th>44203</th>\n",
       "      <td>falcon_180b_v1_600</td>\n",
       "      <td>The Face on Mars is a fascinating phenomenon t...</td>\n",
       "      <td>1</td>\n",
       "      <td>falcon_180b_v1</td>\n",
       "      <td>You have read the article 'Unmasking the Face ...</td>\n",
       "      <td>3</td>\n",
       "    </tr>\n",
       "  </tbody>\n",
       "</table>\n",
       "<p>28210 rows × 6 columns</p>\n",
       "</div>"
      ],
      "text/plain": [
       "                    essay_id  \\\n",
       "20120           83BB96F966DB   \n",
       "43529           80D6E256AA49   \n",
       "2942            4A028F63CFCA   \n",
       "2977            5782F64504B9   \n",
       "31921           97DD2D770B03   \n",
       "...                      ...   \n",
       "44190     falcon_180b_v1_261   \n",
       "44195           BDF13939FA26   \n",
       "44197  1ed36fd42635_04112023   \n",
       "44199               d8f15f7d   \n",
       "44203     falcon_180b_v1_600   \n",
       "\n",
       "                                                    text  label  \\\n",
       "20120  Students would benefit from being able to atte...      0   \n",
       "43529  Landform or alien? The face on Mars looks pret...      0   \n",
       "2942   The human body is a complex network of muscles...      0   \n",
       "2977   Summer projects are a means by which schools a...      0   \n",
       "31921  Dear Mr. Senator,\\n\\nI have decided to express...      0   \n",
       "...                                                  ...    ...   \n",
       "44190  I think it's a good idea for schools to have o...      1   \n",
       "44195   Students often debate whether inactivity or s...      1   \n",
       "44197  The Seagoing Cowboys program is an amazing opp...      1   \n",
       "44199  Advantages of Limiting Car Usage\\n\\nLimiting c...      1   \n",
       "44203  The Face on Mars is a fascinating phenomenon t...      1   \n",
       "\n",
       "                     source  \\\n",
       "20120       persuade_corpus   \n",
       "43529       persuade_corpus   \n",
       "2942        persuade_corpus   \n",
       "2977        persuade_corpus   \n",
       "31921       persuade_corpus   \n",
       "...                     ...   \n",
       "44190        falcon_180b_v1   \n",
       "44195  mistral7binstruct_v2   \n",
       "44197     darragh_claude_v6   \n",
       "44199             radek_500   \n",
       "44203        falcon_180b_v1   \n",
       "\n",
       "                                                  prompt  fold  \n",
       "20120                                                NaN     2  \n",
       "43529                                                NaN     2  \n",
       "2942                                                 NaN     7  \n",
       "2977                                                 NaN     9  \n",
       "31921                                                NaN     6  \n",
       "...                                                  ...   ...  \n",
       "44190  Some schools have implemented policies that al...     0  \n",
       "44195  \\nTask: Research the benefits of staying occup...     3  \n",
       "44197                                                NaN     5  \n",
       "44199                                                NaN     0  \n",
       "44203  You have read the article 'Unmasking the Face ...     3  \n",
       "\n",
       "[28210 rows x 6 columns]"
      ]
     },
     "execution_count": 6,
     "metadata": {},
     "output_type": "execute_result"
    }
   ],
   "source": [
    "ext_df1 = pd.read_csv('/kaggle/input/daigt-proper-train-dataset/train_drcat_04.csv')\n",
    "ext_df2 = pd.read_csv('/kaggle/input/argugpt/argugpt.csv')[['id','text','model']]\n",
    "\n",
    "ext_df2.rename(columns={'model':'source'}, inplace=True)\n",
    "ext_df2['label'] = 1\n",
    "\n",
    "ext_df = pd.concat([\n",
    "    ext_df1[ext_df1.source=='persuade_corpus'].sample(10000),\n",
    "    ext_df1[ext_df1.source!='persuade_corpus'],\n",
    "#     ext_df2,\n",
    "])\n",
    "ext_df"
   ]
  },
  {
   "cell_type": "code",
   "execution_count": 7,
   "id": "e77ccf6b",
   "metadata": {
    "execution": {
     "iopub.execute_input": "2023-11-27T02:20:10.569504Z",
     "iopub.status.busy": "2023-11-27T02:20:10.569186Z",
     "iopub.status.idle": "2023-11-27T02:20:10.586117Z",
     "shell.execute_reply": "2023-11-27T02:20:10.585051Z"
    },
    "papermill": {
     "duration": 0.030887,
     "end_time": "2023-11-27T02:20:10.588415",
     "exception": false,
     "start_time": "2023-11-27T02:20:10.557528",
     "status": "completed"
    },
    "tags": []
   },
   "outputs": [
    {
     "data": {
      "text/html": [
       "<div>\n",
       "<style scoped>\n",
       "    .dataframe tbody tr th:only-of-type {\n",
       "        vertical-align: middle;\n",
       "    }\n",
       "\n",
       "    .dataframe tbody tr th {\n",
       "        vertical-align: top;\n",
       "    }\n",
       "\n",
       "    .dataframe thead th {\n",
       "        text-align: right;\n",
       "    }\n",
       "</style>\n",
       "<table border=\"1\" class=\"dataframe\">\n",
       "  <thead>\n",
       "    <tr style=\"text-align: right;\">\n",
       "      <th></th>\n",
       "      <th>essay_id</th>\n",
       "      <th>text</th>\n",
       "      <th>label</th>\n",
       "      <th>source</th>\n",
       "      <th>prompt</th>\n",
       "      <th>fold</th>\n",
       "    </tr>\n",
       "  </thead>\n",
       "  <tbody>\n",
       "    <tr>\n",
       "      <th>0</th>\n",
       "      <td>83BB96F966DB</td>\n",
       "      <td>Students would benefit from being able to atte...</td>\n",
       "      <td>0</td>\n",
       "      <td>persuade_corpus</td>\n",
       "      <td>NaN</td>\n",
       "      <td>2</td>\n",
       "    </tr>\n",
       "    <tr>\n",
       "      <th>1</th>\n",
       "      <td>80D6E256AA49</td>\n",
       "      <td>Landform or alien? The face on Mars looks pret...</td>\n",
       "      <td>0</td>\n",
       "      <td>persuade_corpus</td>\n",
       "      <td>NaN</td>\n",
       "      <td>2</td>\n",
       "    </tr>\n",
       "    <tr>\n",
       "      <th>2</th>\n",
       "      <td>4A028F63CFCA</td>\n",
       "      <td>The human body is a complex network of muscles...</td>\n",
       "      <td>0</td>\n",
       "      <td>persuade_corpus</td>\n",
       "      <td>NaN</td>\n",
       "      <td>7</td>\n",
       "    </tr>\n",
       "    <tr>\n",
       "      <th>3</th>\n",
       "      <td>5782F64504B9</td>\n",
       "      <td>Summer projects are a means by which schools a...</td>\n",
       "      <td>0</td>\n",
       "      <td>persuade_corpus</td>\n",
       "      <td>NaN</td>\n",
       "      <td>9</td>\n",
       "    </tr>\n",
       "    <tr>\n",
       "      <th>4</th>\n",
       "      <td>97DD2D770B03</td>\n",
       "      <td>Dear Mr. Senator,\\n\\nI have decided to express...</td>\n",
       "      <td>0</td>\n",
       "      <td>persuade_corpus</td>\n",
       "      <td>NaN</td>\n",
       "      <td>6</td>\n",
       "    </tr>\n",
       "  </tbody>\n",
       "</table>\n",
       "</div>"
      ],
      "text/plain": [
       "       essay_id                                               text  label  \\\n",
       "0  83BB96F966DB  Students would benefit from being able to atte...      0   \n",
       "1  80D6E256AA49  Landform or alien? The face on Mars looks pret...      0   \n",
       "2  4A028F63CFCA  The human body is a complex network of muscles...      0   \n",
       "3  5782F64504B9  Summer projects are a means by which schools a...      0   \n",
       "4  97DD2D770B03  Dear Mr. Senator,\\n\\nI have decided to express...      0   \n",
       "\n",
       "            source prompt  fold  \n",
       "0  persuade_corpus    NaN     2  \n",
       "1  persuade_corpus    NaN     2  \n",
       "2  persuade_corpus    NaN     7  \n",
       "3  persuade_corpus    NaN     9  \n",
       "4  persuade_corpus    NaN     6  "
      ]
     },
     "execution_count": 7,
     "metadata": {},
     "output_type": "execute_result"
    }
   ],
   "source": [
    "train = ext_df.copy().reset_index(drop=True) # pd.concat([ext_df, df], axis=0)\n",
    "train.head()"
   ]
  },
  {
   "cell_type": "code",
   "execution_count": 8,
   "id": "53c3d848",
   "metadata": {
    "execution": {
     "iopub.execute_input": "2023-11-27T02:20:10.612720Z",
     "iopub.status.busy": "2023-11-27T02:20:10.612418Z",
     "iopub.status.idle": "2023-11-27T02:20:10.616282Z",
     "shell.execute_reply": "2023-11-27T02:20:10.615427Z"
    },
    "papermill": {
     "duration": 0.018062,
     "end_time": "2023-11-27T02:20:10.618276",
     "exception": false,
     "start_time": "2023-11-27T02:20:10.600214",
     "status": "completed"
    },
    "tags": []
   },
   "outputs": [],
   "source": [
    "# train=pd.concat([\n",
    "#     train_data[train_data.label==0].groupby('prompt_name',group_keys=False)\n",
    "#     .apply(lambda group: group.sample(frac=17497/len(train_data[train_data.label==0]), random_state=42)),\n",
    "#     train_data[train_data.label==1]\n",
    "# ])"
   ]
  },
  {
   "cell_type": "code",
   "execution_count": 9,
   "id": "96e1fc60",
   "metadata": {
    "execution": {
     "iopub.execute_input": "2023-11-27T02:20:10.641679Z",
     "iopub.status.busy": "2023-11-27T02:20:10.641387Z",
     "iopub.status.idle": "2023-11-27T02:20:10.645688Z",
     "shell.execute_reply": "2023-11-27T02:20:10.644728Z"
    },
    "papermill": {
     "duration": 0.01836,
     "end_time": "2023-11-27T02:20:10.647731",
     "exception": false,
     "start_time": "2023-11-27T02:20:10.629371",
     "status": "completed"
    },
    "tags": []
   },
   "outputs": [],
   "source": [
    "# print(sum(train['label']==0))\n",
    "# print(sum(train['label']==1))\n",
    "# print(len(train))\n",
    "# print('비율 맞춤')\n",
    "# print(train[train_data.label == 0].groupby('prompt_name').size().sort_values(ascending=False))\n",
    "# print(sum(train[train_data.label == 0].groupby('prompt_name').size()))\n",
    "# print()\n",
    "# # print(sum(train['prompt_name'].value_counts()))\n",
    "# print('원래 데이터')\n",
    "# print(train_data[train_data.label == 0].groupby('prompt_name').size().sort_values(ascending=False))\n",
    "# print(sum(train_data[train_data.label == 0].groupby('prompt_name').size()))"
   ]
  },
  {
   "cell_type": "code",
   "execution_count": 10,
   "id": "966a7c21",
   "metadata": {
    "execution": {
     "iopub.execute_input": "2023-11-27T02:20:10.672345Z",
     "iopub.status.busy": "2023-11-27T02:20:10.671846Z",
     "iopub.status.idle": "2023-11-27T02:20:10.675488Z",
     "shell.execute_reply": "2023-11-27T02:20:10.674699Z"
    },
    "papermill": {
     "duration": 0.018084,
     "end_time": "2023-11-27T02:20:10.677635",
     "exception": false,
     "start_time": "2023-11-27T02:20:10.659551",
     "status": "completed"
    },
    "tags": []
   },
   "outputs": [],
   "source": [
    "# print(sum(train['label']==0))\n",
    "# print(sum(train['label']==1))\n",
    "# print(len(train))"
   ]
  },
  {
   "cell_type": "code",
   "execution_count": 11,
   "id": "b98d60d2",
   "metadata": {
    "execution": {
     "iopub.execute_input": "2023-11-27T02:20:10.702158Z",
     "iopub.status.busy": "2023-11-27T02:20:10.701559Z",
     "iopub.status.idle": "2023-11-27T02:20:10.705775Z",
     "shell.execute_reply": "2023-11-27T02:20:10.704808Z"
    },
    "papermill": {
     "duration": 0.01853,
     "end_time": "2023-11-27T02:20:10.707794",
     "exception": false,
     "start_time": "2023-11-27T02:20:10.689264",
     "status": "completed"
    },
    "tags": []
   },
   "outputs": [],
   "source": [
    "batch_size=6\n",
    "num_folds=5\n",
    "epochs=3"
   ]
  },
  {
   "cell_type": "code",
   "execution_count": 12,
   "id": "dcfb835d",
   "metadata": {
    "execution": {
     "iopub.execute_input": "2023-11-27T02:20:10.731446Z",
     "iopub.status.busy": "2023-11-27T02:20:10.731143Z",
     "iopub.status.idle": "2023-11-27T02:20:10.735384Z",
     "shell.execute_reply": "2023-11-27T02:20:10.734668Z"
    },
    "papermill": {
     "duration": 0.018218,
     "end_time": "2023-11-27T02:20:10.737299",
     "exception": false,
     "start_time": "2023-11-27T02:20:10.719081",
     "status": "completed"
    },
    "tags": []
   },
   "outputs": [],
   "source": [
    "\n",
    "# from sklearn.model_selection import StratifiedKFold\n",
    "# skf = StratifiedKFold(n_splits=num_folds, shuffle=True, random_state=42)\n",
    "# train = train.reset_index(drop=True) \n",
    "# train['stratify'] = train.label.astype(str)+ train.source.astype(str)\n",
    "# train[\"fold\"]=-1\n",
    "# for fold, (train_idx, val_idx) in enumerate(skf.split(train, train['stratify'])):\n",
    "#     train.loc[val_idx, 'fold'] = fold\n",
    "  \n",
    "# train.groupby([\"fold\", \"label\",\"source\"]).size()"
   ]
  },
  {
   "cell_type": "code",
   "execution_count": 13,
   "id": "67951686",
   "metadata": {
    "execution": {
     "iopub.execute_input": "2023-11-27T02:20:10.759769Z",
     "iopub.status.busy": "2023-11-27T02:20:10.759502Z",
     "iopub.status.idle": "2023-11-27T02:20:11.631654Z",
     "shell.execute_reply": "2023-11-27T02:20:11.630628Z"
    },
    "papermill": {
     "duration": 0.885462,
     "end_time": "2023-11-27T02:20:11.633636",
     "exception": false,
     "start_time": "2023-11-27T02:20:10.748174",
     "status": "completed"
    },
    "tags": []
   },
   "outputs": [
    {
     "name": "stderr",
     "output_type": "stream",
     "text": [
      "/opt/conda/lib/python3.10/site-packages/sklearn/utils/validation.py:605: FutureWarning: is_sparse is deprecated and will be removed in a future version. Check `isinstance(dtype, pd.SparseDtype)` instead.\n",
      "  if is_sparse(pd_dtype):\n",
      "/opt/conda/lib/python3.10/site-packages/sklearn/utils/validation.py:614: FutureWarning: is_sparse is deprecated and will be removed in a future version. Check `isinstance(dtype, pd.SparseDtype)` instead.\n",
      "  if is_sparse(pd_dtype) or not is_extension_array_dtype(pd_dtype):\n",
      "/opt/conda/lib/python3.10/site-packages/sklearn/model_selection/_split.py:700: UserWarning: The least populated class in y has only 3 members, which is less than n_splits=5.\n",
      "  warnings.warn(\n"
     ]
    },
    {
     "data": {
      "text/plain": [
       "fold  label  source              \n",
       "0     0      original_moth            484\n",
       "             persuade_corpus         2000\n",
       "             train_essays             275\n",
       "      1      chat_gpt_moth            484\n",
       "             darragh_claude_v6        200\n",
       "                                     ... \n",
       "4     1      llama_70b_v1             234\n",
       "             mistral7binstruct_v1     484\n",
       "             mistral7binstruct_v2     484\n",
       "             radek_500                100\n",
       "             train_essays               1\n",
       "Length: 63, dtype: int64"
      ]
     },
     "execution_count": 13,
     "metadata": {},
     "output_type": "execute_result"
    }
   ],
   "source": [
    "from sklearn.model_selection import StratifiedKFold  # Import package\n",
    "\n",
    "skf = StratifiedKFold(n_splits=num_folds, shuffle=True, random_state=42)  # Initialize K-Fold\n",
    "\n",
    "train = train.reset_index(drop=True)  # Reset dataframe index\n",
    "\n",
    "train['stratify'] = train.label.astype(str)+train.source.astype(str)\n",
    "\n",
    "train[\"fold\"] = -1  # New 'fold' column\n",
    "\n",
    "# Assign folds using StratifiedKFold\n",
    "for fold, (train_idx, val_idx) in enumerate(skf.split(train, train['stratify'])):\n",
    "    train.loc[val_idx, 'fold'] = fold\n",
    "\n",
    "# Display label distribution for each fold\n",
    "train.groupby([\"fold\", \"label\", \"source\"]).size()"
   ]
  },
  {
   "cell_type": "code",
   "execution_count": 14,
   "id": "f4ff639f",
   "metadata": {
    "execution": {
     "iopub.execute_input": "2023-11-27T02:20:11.658279Z",
     "iopub.status.busy": "2023-11-27T02:20:11.657952Z",
     "iopub.status.idle": "2023-11-27T02:20:12.424645Z",
     "shell.execute_reply": "2023-11-27T02:20:12.423788Z"
    },
    "papermill": {
     "duration": 0.781501,
     "end_time": "2023-11-27T02:20:12.427184",
     "exception": false,
     "start_time": "2023-11-27T02:20:11.645683",
     "status": "completed"
    },
    "tags": []
   },
   "outputs": [],
   "source": [
    "import sentencepiece as spm\n",
    "from keras_nlp.models import DebertaV3Preprocessor\n",
    "\n",
    "# SentencePiece 모델 파일 경로 설정\n",
    "proto = '/kaggle/input/d/leesyyyy/models2/vocab.spm'\n",
    "tokenizer = keras_nlp.models.DebertaV3Tokenizer(proto)\n",
    "\n",
    "# 전처리 클래스 생성\n",
    "preprocessor = DebertaV3Preprocessor(\n",
    "    tokenizer,  # 모델 이름\n",
    "    sequence_length=200    # 최대 시퀀스 길이 (짧은 경우 패딩)\n",
    ")\n"
   ]
  },
  {
   "cell_type": "code",
   "execution_count": 15,
   "id": "2020c4a9",
   "metadata": {
    "execution": {
     "iopub.execute_input": "2023-11-27T02:20:12.452508Z",
     "iopub.status.busy": "2023-11-27T02:20:12.452205Z",
     "iopub.status.idle": "2023-11-27T02:20:12.617212Z",
     "shell.execute_reply": "2023-11-27T02:20:12.616042Z"
    },
    "papermill": {
     "duration": 0.180559,
     "end_time": "2023-11-27T02:20:12.619341",
     "exception": false,
     "start_time": "2023-11-27T02:20:12.438782",
     "status": "completed"
    },
    "tags": []
   },
   "outputs": [
    {
     "name": "stdout",
     "output_type": "stream",
     "text": [
      "token_ids : torch.Size([200])\n",
      "padding_mask : torch.Size([200])\n"
     ]
    }
   ],
   "source": [
    "inp = preprocessor(train.text.iloc[0])  # Process text for the first row\n",
    "\n",
    "# Display the shape of each processed output\n",
    "for k, v in inp.items():\n",
    "    print(k, \":\", v.shape)\n",
    "    \n",
    "def preprocess_fn(text, label=None):\n",
    "    text = preprocessor(text)  # Preprocess text\n",
    "    return (text, label) if label is not None else text"
   ]
  },
  {
   "cell_type": "code",
   "execution_count": 16,
   "id": "0e9e1a59",
   "metadata": {
    "execution": {
     "iopub.execute_input": "2023-11-27T02:20:12.644652Z",
     "iopub.status.busy": "2023-11-27T02:20:12.644338Z",
     "iopub.status.idle": "2023-11-27T02:20:12.652454Z",
     "shell.execute_reply": "2023-11-27T02:20:12.651556Z"
    },
    "papermill": {
     "duration": 0.022989,
     "end_time": "2023-11-27T02:20:12.654640",
     "exception": false,
     "start_time": "2023-11-27T02:20:12.631651",
     "status": "completed"
    },
    "tags": []
   },
   "outputs": [],
   "source": [
    "def build_dataset(texts, labels=None, batch_size=32,\n",
    "                  cache=False, drop_remainder=True,\n",
    "                  repeat=False, shuffle=1024):\n",
    "    AUTO = tf.data.AUTOTUNE  # AUTOTUNE option\n",
    "    slices = (texts,) if labels is None else (texts, labels)  # Create slices\n",
    "    ds = tf.data.Dataset.from_tensor_slices(slices)  # Create dataset from slices\n",
    "    ds = ds.cache() if cache else ds  # Cache dataset if enabled\n",
    "    ds = ds.map(preprocess_fn, num_parallel_calls=AUTO)  # Map preprocessing function\n",
    "    ds = ds.repeat() if repeat else ds  # Repeat dataset if enabled\n",
    "    opt = tf.data.Options()  # Create dataset options\n",
    "    if shuffle: \n",
    "        ds = ds.shuffle(shuffle, seed=42)  # Shuffle dataset if enabled\n",
    "        opt.experimental_deterministic = False\n",
    "    ds = ds.with_options(opt)  # Set dataset options\n",
    "    ds = ds.batch(batch_size, drop_remainder=drop_remainder)  # Batch dataset\n",
    "    ds = ds.prefetch(AUTO)  # Prefetch next batch\n",
    "    return ds  # Return the built dataset"
   ]
  },
  {
   "cell_type": "code",
   "execution_count": 17,
   "id": "83559c02",
   "metadata": {
    "execution": {
     "iopub.execute_input": "2023-11-27T02:20:12.678966Z",
     "iopub.status.busy": "2023-11-27T02:20:12.678683Z",
     "iopub.status.idle": "2023-11-27T02:20:12.686229Z",
     "shell.execute_reply": "2023-11-27T02:20:12.685225Z"
    },
    "papermill": {
     "duration": 0.021694,
     "end_time": "2023-11-27T02:20:12.688179",
     "exception": false,
     "start_time": "2023-11-27T02:20:12.666485",
     "status": "completed"
    },
    "tags": []
   },
   "outputs": [],
   "source": [
    "def get_datasets(fold):\n",
    "    # Split the dataset into train and validation sets\n",
    "    train_df = train[train.fold!=fold].sample(frac=1)\n",
    "    \n",
    "    # Get training data for the specified fold\n",
    "    train_texts = train_df.text.tolist()\n",
    "    train_labels = train_df.label.tolist()\n",
    "\n",
    "    # Build training dataset\n",
    "    train_ds = build_dataset(train_texts, train_labels,\n",
    "                             batch_size=batch_size, cache=False,\n",
    "                             shuffle=True, drop_remainder=True, repeat=True)\n",
    "\n",
    "    # Get validation data for the specified fold\n",
    "    valid_df = train[train.fold==fold].sample(frac=1)\n",
    "    valid_texts = valid_df.text.tolist()\n",
    "    valid_labels = valid_df.label.tolist()\n",
    "\n",
    "    # Build validation dataset\n",
    "    valid_ds = build_dataset(valid_texts, valid_labels,\n",
    "                             batch_size=min(batch_size, len(valid_df)), cache=False,\n",
    "                             shuffle=False, drop_remainder=True, repeat=False)\n",
    "\n",
    "    return (train_ds, train_df), (valid_ds, valid_df)"
   ]
  },
  {
   "cell_type": "code",
   "execution_count": 18,
   "id": "fbdd67ec",
   "metadata": {
    "execution": {
     "iopub.execute_input": "2023-11-27T02:20:12.711979Z",
     "iopub.status.busy": "2023-11-27T02:20:12.711673Z",
     "iopub.status.idle": "2023-11-27T02:20:12.716973Z",
     "shell.execute_reply": "2023-11-27T02:20:12.716083Z"
    },
    "papermill": {
     "duration": 0.019707,
     "end_time": "2023-11-27T02:20:12.719033",
     "exception": false,
     "start_time": "2023-11-27T02:20:12.699326",
     "status": "completed"
    },
    "tags": []
   },
   "outputs": [],
   "source": [
    "def get_callbacks(fold):\n",
    "    callbacks = []\n",
    "    ckpt_cb = keras.callbacks.ModelCheckpoint(f'fold{fold}.keras',\n",
    "                                              monitor='val_auc',\n",
    "                                              save_best_only=True,\n",
    "                                              save_weights_only=False,\n",
    "                                              mode='max')  # Get Model checkpoint callback\n",
    "    callbacks.append(ckpt_cb)  # Add checkpoint callback        \n",
    "    return callbacks  # Return the list of callbacks"
   ]
  },
  {
   "cell_type": "code",
   "execution_count": 19,
   "id": "89ae6abb",
   "metadata": {
    "execution": {
     "iopub.execute_input": "2023-11-27T02:20:12.743555Z",
     "iopub.status.busy": "2023-11-27T02:20:12.743259Z",
     "iopub.status.idle": "2023-11-27T02:20:12.907960Z",
     "shell.execute_reply": "2023-11-27T02:20:12.907270Z"
    },
    "papermill": {
     "duration": 0.17922,
     "end_time": "2023-11-27T02:20:12.910141",
     "exception": false,
     "start_time": "2023-11-27T02:20:12.730921",
     "status": "completed"
    },
    "tags": []
   },
   "outputs": [],
   "source": [
    "backbone = keras_nlp.models.DebertaV3Backbone(\n",
    "    vocabulary_size=30552,\n",
    "    num_layers=4,\n",
    "    num_heads=4,\n",
    "    hidden_dim=256,\n",
    "    intermediate_dim=512,\n",
    "    max_sequence_length=128,\n",
    ")"
   ]
  },
  {
   "cell_type": "code",
   "execution_count": 20,
   "id": "4c513d31",
   "metadata": {
    "execution": {
     "iopub.execute_input": "2023-11-27T02:20:12.933594Z",
     "iopub.status.busy": "2023-11-27T02:20:12.933298Z",
     "iopub.status.idle": "2023-11-27T02:20:12.940694Z",
     "shell.execute_reply": "2023-11-27T02:20:12.939940Z"
    },
    "papermill": {
     "duration": 0.021194,
     "end_time": "2023-11-27T02:20:12.942509",
     "exception": false,
     "start_time": "2023-11-27T02:20:12.921315",
     "status": "completed"
    },
    "tags": []
   },
   "outputs": [],
   "source": [
    "from keras_nlp.models import DebertaV3Classifier\n",
    "def build_model():\n",
    "    # Create a DebertaV3Classifier model\n",
    "    backbone = keras_nlp.models.DebertaV3Backbone(\n",
    "    vocabulary_size=128100,\n",
    "    num_layers=12,\n",
    "    num_heads=12,\n",
    "    hidden_dim=768,\n",
    "    intermediate_dim=3072,\n",
    "    max_sequence_length=512,\n",
    "    )\n",
    "    \n",
    "    classifier = DebertaV3Classifier(\n",
    "        backbone,\n",
    "        preprocessor=None,\n",
    "        num_classes=1  # one output per one option, for five options total 5 outputs\n",
    "    )\n",
    "    inputs = classifier.input\n",
    "    logits = classifier(inputs)\n",
    "\n",
    "    # Compute final output\n",
    "    outputs = keras.layers.Activation(\"sigmoid\")(logits)\n",
    "    model = keras.Model(inputs, outputs)\n",
    "\n",
    "\n",
    "    # Use the learning rate schedule in the optimizer\n",
    "\n",
    "    # Compile the model with optimizer, loss, and metrics\n",
    "    model.compile(\n",
    "        optimizer=keras.optimizers.AdamW(5e-6),\n",
    "        loss=keras.losses.BinaryCrossentropy(label_smoothing=0.02),\n",
    "        metrics=[\n",
    "            keras.metrics.AUC(name=\"auc\"),\n",
    "        ],\n",
    "        jit_compile=True\n",
    "    )\n",
    "\n",
    "    return model"
   ]
  },
  {
   "cell_type": "code",
   "execution_count": 21,
   "id": "c8d0b881",
   "metadata": {
    "execution": {
     "iopub.execute_input": "2023-11-27T02:20:12.966108Z",
     "iopub.status.busy": "2023-11-27T02:20:12.965777Z",
     "iopub.status.idle": "2023-11-27T02:20:13.369812Z",
     "shell.execute_reply": "2023-11-27T02:20:13.368854Z"
    },
    "papermill": {
     "duration": 0.418371,
     "end_time": "2023-11-27T02:20:13.372196",
     "exception": false,
     "start_time": "2023-11-27T02:20:12.953825",
     "status": "completed"
    },
    "tags": []
   },
   "outputs": [
    {
     "name": "stderr",
     "output_type": "stream",
     "text": [
      "/opt/conda/lib/python3.10/site-packages/keras_core/src/trainers/trainer.py:166: UserWarning: `jit_compile` is not yet enabled for the PyTorch backend. Proceeding with `jit_compile=False`.\n",
      "  warnings.warn(\n"
     ]
    }
   ],
   "source": [
    "model = build_model()"
   ]
  },
  {
   "cell_type": "code",
   "execution_count": 22,
   "id": "f2a285e8",
   "metadata": {
    "execution": {
     "iopub.execute_input": "2023-11-27T02:20:13.395497Z",
     "iopub.status.busy": "2023-11-27T02:20:13.395215Z",
     "iopub.status.idle": "2023-11-27T02:20:13.419334Z",
     "shell.execute_reply": "2023-11-27T02:20:13.418517Z"
    },
    "papermill": {
     "duration": 0.037824,
     "end_time": "2023-11-27T02:20:13.421230",
     "exception": false,
     "start_time": "2023-11-27T02:20:13.383406",
     "status": "completed"
    },
    "tags": []
   },
   "outputs": [
    {
     "data": {
      "text/html": [
       "<pre style=\"white-space:pre;overflow-x:auto;line-height:normal;font-family:Menlo,'DejaVu Sans Mono',consolas,'Courier New',monospace\"><span style=\"font-weight: bold\">Model: \"functional_1\"</span>\n",
       "</pre>\n"
      ],
      "text/plain": [
       "\u001b[1mModel: \"functional_1\"\u001b[0m\n"
      ]
     },
     "metadata": {},
     "output_type": "display_data"
    },
    {
     "data": {
      "text/html": [
       "<pre style=\"white-space:pre;overflow-x:auto;line-height:normal;font-family:Menlo,'DejaVu Sans Mono',consolas,'Courier New',monospace\">┏━━━━━━━━━━━━━━━━━━━━━┳━━━━━━━━━━━━━━━━━━━┳━━━━━━━━━┳━━━━━━━━━━━━━━━━━━━━━━┓\n",
       "┃<span style=\"font-weight: bold\"> Layer (type)        </span>┃<span style=\"font-weight: bold\"> Output Shape      </span>┃<span style=\"font-weight: bold\"> Param # </span>┃<span style=\"font-weight: bold\"> Connected to         </span>┃\n",
       "┡━━━━━━━━━━━━━━━━━━━━━╇━━━━━━━━━━━━━━━━━━━╇━━━━━━━━━╇━━━━━━━━━━━━━━━━━━━━━━┩\n",
       "│ padding_mask        │ (<span style=\"color: #00d7ff; text-decoration-color: #00d7ff\">None</span>, <span style=\"color: #00d7ff; text-decoration-color: #00d7ff\">None</span>)      │       <span style=\"color: #00af00; text-decoration-color: #00af00\">0</span> │ -                    │\n",
       "│ (<span style=\"color: #0087ff; text-decoration-color: #0087ff\">InputLayer</span>)        │                   │         │                      │\n",
       "├─────────────────────┼───────────────────┼─────────┼──────────────────────┤\n",
       "│ token_ids           │ (<span style=\"color: #00d7ff; text-decoration-color: #00d7ff\">None</span>, <span style=\"color: #00d7ff; text-decoration-color: #00d7ff\">None</span>)      │       <span style=\"color: #00af00; text-decoration-color: #00af00\">0</span> │ -                    │\n",
       "│ (<span style=\"color: #0087ff; text-decoration-color: #0087ff\">InputLayer</span>)        │                   │         │                      │\n",
       "├─────────────────────┼───────────────────┼─────────┼──────────────────────┤\n",
       "│ deberta_v3_classif… │ (<span style=\"color: #00d7ff; text-decoration-color: #00d7ff\">None</span>, <span style=\"color: #00af00; text-decoration-color: #00af00\">1</span>)         │ <span style=\"color: #00af00; text-decoration-color: #00af00\">184,42…</span> │ padding_mask[<span style=\"color: #00af00; text-decoration-color: #00af00\">0</span>][<span style=\"color: #00af00; text-decoration-color: #00af00\">0</span>],  │\n",
       "│ (<span style=\"color: #0087ff; text-decoration-color: #0087ff\">DebertaV3Classifi…</span> │                   │         │ token_ids[<span style=\"color: #00af00; text-decoration-color: #00af00\">0</span>][<span style=\"color: #00af00; text-decoration-color: #00af00\">0</span>]      │\n",
       "├─────────────────────┼───────────────────┼─────────┼──────────────────────┤\n",
       "│ activation          │ (<span style=\"color: #00d7ff; text-decoration-color: #00d7ff\">None</span>, <span style=\"color: #00af00; text-decoration-color: #00af00\">1</span>)         │       <span style=\"color: #00af00; text-decoration-color: #00af00\">0</span> │ deberta_v3_classifi… │\n",
       "│ (<span style=\"color: #0087ff; text-decoration-color: #0087ff\">Activation</span>)        │                   │         │                      │\n",
       "└─────────────────────┴───────────────────┴─────────┴──────────────────────┘\n",
       "</pre>\n"
      ],
      "text/plain": [
       "┏━━━━━━━━━━━━━━━━━━━━━┳━━━━━━━━━━━━━━━━━━━┳━━━━━━━━━┳━━━━━━━━━━━━━━━━━━━━━━┓\n",
       "┃\u001b[1m \u001b[0m\u001b[1mLayer (type)       \u001b[0m\u001b[1m \u001b[0m┃\u001b[1m \u001b[0m\u001b[1mOutput Shape     \u001b[0m\u001b[1m \u001b[0m┃\u001b[1m \u001b[0m\u001b[1mParam #\u001b[0m\u001b[1m \u001b[0m┃\u001b[1m \u001b[0m\u001b[1mConnected to        \u001b[0m\u001b[1m \u001b[0m┃\n",
       "┡━━━━━━━━━━━━━━━━━━━━━╇━━━━━━━━━━━━━━━━━━━╇━━━━━━━━━╇━━━━━━━━━━━━━━━━━━━━━━┩\n",
       "│ padding_mask        │ (\u001b[38;5;45mNone\u001b[0m, \u001b[38;5;45mNone\u001b[0m)      │       \u001b[38;5;34m0\u001b[0m │ -                    │\n",
       "│ (\u001b[38;5;33mInputLayer\u001b[0m)        │                   │         │                      │\n",
       "├─────────────────────┼───────────────────┼─────────┼──────────────────────┤\n",
       "│ token_ids           │ (\u001b[38;5;45mNone\u001b[0m, \u001b[38;5;45mNone\u001b[0m)      │       \u001b[38;5;34m0\u001b[0m │ -                    │\n",
       "│ (\u001b[38;5;33mInputLayer\u001b[0m)        │                   │         │                      │\n",
       "├─────────────────────┼───────────────────┼─────────┼──────────────────────┤\n",
       "│ deberta_v3_classif… │ (\u001b[38;5;45mNone\u001b[0m, \u001b[38;5;34m1\u001b[0m)         │ \u001b[38;5;34m184,42…\u001b[0m │ padding_mask[\u001b[38;5;34m0\u001b[0m][\u001b[38;5;34m0\u001b[0m],  │\n",
       "│ (\u001b[38;5;33mDebertaV3Classifi…\u001b[0m │                   │         │ token_ids[\u001b[38;5;34m0\u001b[0m][\u001b[38;5;34m0\u001b[0m]      │\n",
       "├─────────────────────┼───────────────────┼─────────┼──────────────────────┤\n",
       "│ activation          │ (\u001b[38;5;45mNone\u001b[0m, \u001b[38;5;34m1\u001b[0m)         │       \u001b[38;5;34m0\u001b[0m │ deberta_v3_classifi… │\n",
       "│ (\u001b[38;5;33mActivation\u001b[0m)        │                   │         │                      │\n",
       "└─────────────────────┴───────────────────┴─────────┴──────────────────────┘\n"
      ]
     },
     "metadata": {},
     "output_type": "display_data"
    },
    {
     "data": {
      "text/html": [
       "<pre style=\"white-space:pre;overflow-x:auto;line-height:normal;font-family:Menlo,'DejaVu Sans Mono',consolas,'Courier New',monospace\"><span style=\"font-weight: bold\"> Total params: </span><span style=\"color: #00af00; text-decoration-color: #00af00\">184,422,913</span> (703.52 MB)\n",
       "</pre>\n"
      ],
      "text/plain": [
       "\u001b[1m Total params: \u001b[0m\u001b[38;5;34m184,422,913\u001b[0m (703.52 MB)\n"
      ]
     },
     "metadata": {},
     "output_type": "display_data"
    },
    {
     "data": {
      "text/html": [
       "<pre style=\"white-space:pre;overflow-x:auto;line-height:normal;font-family:Menlo,'DejaVu Sans Mono',consolas,'Courier New',monospace\"><span style=\"font-weight: bold\"> Trainable params: </span><span style=\"color: #00af00; text-decoration-color: #00af00\">184,422,913</span> (703.52 MB)\n",
       "</pre>\n"
      ],
      "text/plain": [
       "\u001b[1m Trainable params: \u001b[0m\u001b[38;5;34m184,422,913\u001b[0m (703.52 MB)\n"
      ]
     },
     "metadata": {},
     "output_type": "display_data"
    },
    {
     "data": {
      "text/html": [
       "<pre style=\"white-space:pre;overflow-x:auto;line-height:normal;font-family:Menlo,'DejaVu Sans Mono',consolas,'Courier New',monospace\"><span style=\"font-weight: bold\"> Non-trainable params: </span><span style=\"color: #00af00; text-decoration-color: #00af00\">0</span> (0.00 B)\n",
       "</pre>\n"
      ],
      "text/plain": [
       "\u001b[1m Non-trainable params: \u001b[0m\u001b[38;5;34m0\u001b[0m (0.00 B)\n"
      ]
     },
     "metadata": {},
     "output_type": "display_data"
    }
   ],
   "source": [
    "model.summary()"
   ]
  },
  {
   "cell_type": "code",
   "execution_count": 23,
   "id": "8a770f69",
   "metadata": {
    "execution": {
     "iopub.execute_input": "2023-11-27T02:20:13.448598Z",
     "iopub.status.busy": "2023-11-27T02:20:13.447660Z",
     "iopub.status.idle": "2023-11-27T03:54:13.174991Z",
     "shell.execute_reply": "2023-11-27T03:54:13.174059Z"
    },
    "papermill": {
     "duration": 5640.694798,
     "end_time": "2023-11-27T03:54:14.128197",
     "exception": false,
     "start_time": "2023-11-27T02:20:13.433399",
     "status": "completed"
    },
    "tags": []
   },
   "outputs": [
    {
     "name": "stdout",
     "output_type": "stream",
     "text": [
      "--------------------------------------------------\n",
      "\tFold: 2 | Model: deberta_v3_base_en\n",
      "\tBatch Size: 6\n",
      "\tNum Train: 22568 | Num Valid: 5642\n",
      "--------------------------------------------------\n",
      "Epoch 1/3\n",
      "\u001b[1m3761/3761\u001b[0m \u001b[32m━━━━━━━━━━━━━━━━━━━━\u001b[0m\u001b[37m\u001b[0m \u001b[1m1875s\u001b[0m 498ms/step - auc: 0.9449 - loss: 0.2810 - val_auc: 0.9965 - val_loss: 0.1174\n",
      "Epoch 2/3\n",
      "\u001b[1m3761/3761\u001b[0m \u001b[32m━━━━━━━━━━━━━━━━━━━━\u001b[0m\u001b[37m\u001b[0m \u001b[1m1878s\u001b[0m 499ms/step - auc: 0.9951 - loss: 0.1125 - val_auc: 0.9975 - val_loss: 0.1079\n",
      "Epoch 3/3\n",
      "\u001b[1m3761/3761\u001b[0m \u001b[32m━━━━━━━━━━━━━━━━━━━━\u001b[0m\u001b[37m\u001b[0m \u001b[1m1876s\u001b[0m 499ms/step - auc: 0.9968 - loss: 0.0949 - val_auc: 0.9978 - val_loss: 0.1060\n",
      "\n",
      "================= FOLD 2 RESULTS =================\n",
      ">>>> BEST Loss  : 0.106\n",
      ">>>> BEST AUC   : 0.998\n",
      ">>>> BEST Epoch : 2\n",
      "==================================================\n"
     ]
    }
   ],
   "source": [
    "for fold in range(2,3):\n",
    "    (train_ds, train_df), (valid_ds, valid_df) = get_datasets(fold)\n",
    "    callbacks = get_callbacks(fold)\n",
    "    print('-' * 50)\n",
    "    print(f'\\tFold: {fold} | Model: deberta_v3_base_en\\n\\tBatch Size: {batch_size}')\n",
    "    print(f'\\tNum Train: {len(train_df)} | Num Valid: {len(valid_df)}')\n",
    "    print('-' * 50)\n",
    "    \n",
    "    # Clear TensorFlow session and build the model within the strategy scope\n",
    "    K.clear_session()\n",
    "    \n",
    "    model = build_model()\n",
    "        \n",
    "    history = model.fit(\n",
    "        train_ds,\n",
    "        epochs=epochs,\n",
    "        validation_data=valid_ds,\n",
    "        callbacks=callbacks,\n",
    "        steps_per_epoch=int(len(train_df) / batch_size),\n",
    "    )\n",
    "    \n",
    "    best_epoch = np.argmax(model.history.history['val_auc'])\n",
    "    best_auc = model.history.history['val_auc'][best_epoch]\n",
    "    best_loss = model.history.history['val_loss'][best_epoch]\n",
    "    \n",
    "     # Print and display best results\n",
    "    print(f'\\n{\"=\" * 17} FOLD {fold} RESULTS {\"=\" * 17}')\n",
    "    print(f'>>>> BEST Loss  : {best_loss:.3f}\\n>>>> BEST AUC   : {best_auc:.3f}\\n>>>> BEST Epoch : {best_epoch}')\n",
    "    print('=' * 50)"
   ]
  },
  {
   "cell_type": "code",
   "execution_count": 24,
   "id": "cdb41e5b",
   "metadata": {
    "execution": {
     "iopub.execute_input": "2023-11-27T03:54:16.054189Z",
     "iopub.status.busy": "2023-11-27T03:54:16.053799Z",
     "iopub.status.idle": "2023-11-27T03:54:16.058029Z",
     "shell.execute_reply": "2023-11-27T03:54:16.057144Z"
    },
    "papermill": {
     "duration": 0.927674,
     "end_time": "2023-11-27T03:54:16.059987",
     "exception": false,
     "start_time": "2023-11-27T03:54:15.132313",
     "status": "completed"
    },
    "tags": []
   },
   "outputs": [],
   "source": [
    "# from tensorflow.keras.models import load_model\n",
    "# fold=2\n",
    "# model_path = f'/kaggle/working/fold2.keras'\n",
    "\n",
    "# loaded_model = load_model(model_path)"
   ]
  },
  {
   "cell_type": "code",
   "execution_count": 25,
   "id": "59596b5f",
   "metadata": {
    "execution": {
     "iopub.execute_input": "2023-11-27T03:54:18.018692Z",
     "iopub.status.busy": "2023-11-27T03:54:18.018309Z",
     "iopub.status.idle": "2023-11-27T03:54:18.046292Z",
     "shell.execute_reply": "2023-11-27T03:54:18.045414Z"
    },
    "papermill": {
     "duration": 1.046369,
     "end_time": "2023-11-27T03:54:18.048326",
     "exception": false,
     "start_time": "2023-11-27T03:54:17.001957",
     "status": "completed"
    },
    "tags": []
   },
   "outputs": [
    {
     "data": {
      "text/html": [
       "<div>\n",
       "<style scoped>\n",
       "    .dataframe tbody tr th:only-of-type {\n",
       "        vertical-align: middle;\n",
       "    }\n",
       "\n",
       "    .dataframe tbody tr th {\n",
       "        vertical-align: top;\n",
       "    }\n",
       "\n",
       "    .dataframe thead th {\n",
       "        text-align: right;\n",
       "    }\n",
       "</style>\n",
       "<table border=\"1\" class=\"dataframe\">\n",
       "  <thead>\n",
       "    <tr style=\"text-align: right;\">\n",
       "      <th></th>\n",
       "      <th>id</th>\n",
       "      <th>prompt_id</th>\n",
       "      <th>text</th>\n",
       "    </tr>\n",
       "  </thead>\n",
       "  <tbody>\n",
       "    <tr>\n",
       "      <th>0</th>\n",
       "      <td>0000aaaa</td>\n",
       "      <td>2</td>\n",
       "      <td>Aaa bbb ccc.</td>\n",
       "    </tr>\n",
       "    <tr>\n",
       "      <th>1</th>\n",
       "      <td>1111bbbb</td>\n",
       "      <td>3</td>\n",
       "      <td>Bbb ccc ddd.</td>\n",
       "    </tr>\n",
       "    <tr>\n",
       "      <th>2</th>\n",
       "      <td>2222cccc</td>\n",
       "      <td>4</td>\n",
       "      <td>CCC ddd eee.</td>\n",
       "    </tr>\n",
       "  </tbody>\n",
       "</table>\n",
       "</div>"
      ],
      "text/plain": [
       "         id  prompt_id          text\n",
       "0  0000aaaa          2  Aaa bbb ccc.\n",
       "1  1111bbbb          3  Bbb ccc ddd.\n",
       "2  2222cccc          4  CCC ddd eee."
      ]
     },
     "execution_count": 25,
     "metadata": {},
     "output_type": "execute_result"
    }
   ],
   "source": [
    "sub=pd.read_csv('/kaggle/input/llm-detect-ai-generated-text/sample_submission.csv')\n",
    "test=pd.read_csv('/kaggle/input/llm-detect-ai-generated-text/test_essays.csv')\n",
    "test"
   ]
  },
  {
   "cell_type": "code",
   "execution_count": 26,
   "id": "5b1fe83f",
   "metadata": {
    "execution": {
     "iopub.execute_input": "2023-11-27T03:54:19.993951Z",
     "iopub.status.busy": "2023-11-27T03:54:19.993561Z",
     "iopub.status.idle": "2023-11-27T03:54:20.846409Z",
     "shell.execute_reply": "2023-11-27T03:54:20.845456Z"
    },
    "papermill": {
     "duration": 1.855264,
     "end_time": "2023-11-27T03:54:20.848585",
     "exception": false,
     "start_time": "2023-11-27T03:54:18.993321",
     "status": "completed"
    },
    "tags": []
   },
   "outputs": [
    {
     "name": "stdout",
     "output_type": "stream",
     "text": [
      "token_ids : (3, 200)\n",
      "padding_mask : (3, 200)\n"
     ]
    }
   ],
   "source": [
    "test_texts = test['text'].tolist()\n",
    "\n",
    "# Build test dataset\n",
    "test_ds = build_dataset(test_texts,\n",
    "                        batch_size=batch_size, cache=False,\n",
    "                        shuffle=False, drop_remainder=False, repeat=False)\n",
    "\n",
    "# Display the shape of each processed output for the first sample\n",
    "for sample in test_ds.take(1):\n",
    "    for k, v in sample.items():\n",
    "        print(k, \":\", v.shape)"
   ]
  },
  {
   "cell_type": "code",
   "execution_count": 27,
   "id": "8d3ae373",
   "metadata": {
    "execution": {
     "iopub.execute_input": "2023-11-27T03:54:22.691568Z",
     "iopub.status.busy": "2023-11-27T03:54:22.690772Z",
     "iopub.status.idle": "2023-11-27T03:54:22.991200Z",
     "shell.execute_reply": "2023-11-27T03:54:22.990396Z"
    },
    "papermill": {
     "duration": 1.223142,
     "end_time": "2023-11-27T03:54:22.993002",
     "exception": false,
     "start_time": "2023-11-27T03:54:21.769860",
     "status": "completed"
    },
    "tags": []
   },
   "outputs": [
    {
     "name": "stdout",
     "output_type": "stream",
     "text": [
      "\u001b[1m1/1\u001b[0m \u001b[32m━━━━━━━━━━━━━━━━━━━━\u001b[0m\u001b[37m\u001b[0m \u001b[1m0s\u001b[0m 294ms/step\n"
     ]
    }
   ],
   "source": [
    "predictions = model.predict(test_ds,batch_size=batch_size,verbose=1)\n",
    "# predictions = model.predict(\n",
    "#     valid_ds,\n",
    "#     batch_size=min(CFG.batch_size * CFG.replicas * 2, len(valid_df)), # max batch size = valid size\n",
    "#     verbose=1\n",
    "# )"
   ]
  },
  {
   "cell_type": "code",
   "execution_count": 28,
   "id": "e81a9c0f",
   "metadata": {
    "execution": {
     "iopub.execute_input": "2023-11-27T03:54:24.931429Z",
     "iopub.status.busy": "2023-11-27T03:54:24.931060Z",
     "iopub.status.idle": "2023-11-27T03:54:24.941466Z",
     "shell.execute_reply": "2023-11-27T03:54:24.940582Z"
    },
    "papermill": {
     "duration": 0.947482,
     "end_time": "2023-11-27T03:54:24.943703",
     "exception": false,
     "start_time": "2023-11-27T03:54:23.996221",
     "status": "completed"
    },
    "tags": []
   },
   "outputs": [
    {
     "data": {
      "text/html": [
       "<div>\n",
       "<style scoped>\n",
       "    .dataframe tbody tr th:only-of-type {\n",
       "        vertical-align: middle;\n",
       "    }\n",
       "\n",
       "    .dataframe tbody tr th {\n",
       "        vertical-align: top;\n",
       "    }\n",
       "\n",
       "    .dataframe thead th {\n",
       "        text-align: right;\n",
       "    }\n",
       "</style>\n",
       "<table border=\"1\" class=\"dataframe\">\n",
       "  <thead>\n",
       "    <tr style=\"text-align: right;\">\n",
       "      <th></th>\n",
       "      <th>id</th>\n",
       "      <th>generated</th>\n",
       "    </tr>\n",
       "  </thead>\n",
       "  <tbody>\n",
       "    <tr>\n",
       "      <th>0</th>\n",
       "      <td>0000aaaa</td>\n",
       "      <td>0.991587</td>\n",
       "    </tr>\n",
       "    <tr>\n",
       "      <th>1</th>\n",
       "      <td>1111bbbb</td>\n",
       "      <td>0.992034</td>\n",
       "    </tr>\n",
       "    <tr>\n",
       "      <th>2</th>\n",
       "      <td>2222cccc</td>\n",
       "      <td>0.991366</td>\n",
       "    </tr>\n",
       "  </tbody>\n",
       "</table>\n",
       "</div>"
      ],
      "text/plain": [
       "         id  generated\n",
       "0  0000aaaa   0.991587\n",
       "1  1111bbbb   0.992034\n",
       "2  2222cccc   0.991366"
      ]
     },
     "execution_count": 28,
     "metadata": {},
     "output_type": "execute_result"
    }
   ],
   "source": [
    "# 예측 결과 출력\n",
    "submission_df = pd.DataFrame({\n",
    "    'id': test['id'],\n",
    "    'generated': predictions.flatten()\n",
    "})\n",
    "submission_df"
   ]
  },
  {
   "cell_type": "code",
   "execution_count": 29,
   "id": "878a76f3",
   "metadata": {
    "execution": {
     "iopub.execute_input": "2023-11-27T03:54:26.918206Z",
     "iopub.status.busy": "2023-11-27T03:54:26.917823Z",
     "iopub.status.idle": "2023-11-27T03:54:26.926425Z",
     "shell.execute_reply": "2023-11-27T03:54:26.925656Z"
    },
    "papermill": {
     "duration": 0.949912,
     "end_time": "2023-11-27T03:54:26.928636",
     "exception": false,
     "start_time": "2023-11-27T03:54:25.978724",
     "status": "completed"
    },
    "tags": []
   },
   "outputs": [],
   "source": [
    "submission_df.to_csv('/kaggle/working/submission.csv', index=False)"
   ]
  },
  {
   "cell_type": "code",
   "execution_count": null,
   "id": "5c413c5e",
   "metadata": {
    "papermill": {
     "duration": 0.983295,
     "end_time": "2023-11-27T03:54:28.844868",
     "exception": false,
     "start_time": "2023-11-27T03:54:27.861573",
     "status": "completed"
    },
    "tags": []
   },
   "outputs": [],
   "source": []
  },
  {
   "cell_type": "code",
   "execution_count": null,
   "id": "3a15564a",
   "metadata": {
    "papermill": {
     "duration": 1.000318,
     "end_time": "2023-11-27T03:54:30.773916",
     "exception": false,
     "start_time": "2023-11-27T03:54:29.773598",
     "status": "completed"
    },
    "tags": []
   },
   "outputs": [],
   "source": []
  },
  {
   "cell_type": "code",
   "execution_count": null,
   "id": "be99ccb4",
   "metadata": {
    "papermill": {
     "duration": 0.924665,
     "end_time": "2023-11-27T03:54:32.630079",
     "exception": false,
     "start_time": "2023-11-27T03:54:31.705414",
     "status": "completed"
    },
    "tags": []
   },
   "outputs": [],
   "source": []
  },
  {
   "cell_type": "code",
   "execution_count": null,
   "id": "c1c3c7cf",
   "metadata": {
    "papermill": {
     "duration": 0.939829,
     "end_time": "2023-11-27T03:54:34.587302",
     "exception": false,
     "start_time": "2023-11-27T03:54:33.647473",
     "status": "completed"
    },
    "tags": []
   },
   "outputs": [],
   "source": []
  },
  {
   "cell_type": "code",
   "execution_count": null,
   "id": "fc8e70f8",
   "metadata": {
    "papermill": {
     "duration": 1.003163,
     "end_time": "2023-11-27T03:54:36.544968",
     "exception": false,
     "start_time": "2023-11-27T03:54:35.541805",
     "status": "completed"
    },
    "tags": []
   },
   "outputs": [],
   "source": []
  },
  {
   "cell_type": "code",
   "execution_count": null,
   "id": "308cdaf4",
   "metadata": {
    "papermill": {
     "duration": 0.932939,
     "end_time": "2023-11-27T03:54:38.460443",
     "exception": false,
     "start_time": "2023-11-27T03:54:37.527504",
     "status": "completed"
    },
    "tags": []
   },
   "outputs": [],
   "source": []
  }
 ],
 "metadata": {
  "kaggle": {
   "accelerator": "nvidiaTeslaT4",
   "dataSources": [
    {
     "databundleVersionId": 6888007,
     "sourceId": 61542,
     "sourceType": "competition"
    },
    {
     "datasetId": 3946973,
     "sourceId": 6867914,
     "sourceType": "datasetVersion"
    },
    {
     "datasetId": 3942644,
     "sourceId": 6890527,
     "sourceType": "datasetVersion"
    },
    {
     "datasetId": 4055480,
     "sourceId": 7047560,
     "sourceType": "datasetVersion"
    },
    {
     "datasetId": 4060913,
     "sourceId": 7055363,
     "sourceType": "datasetVersion"
    },
    {
     "datasetId": 4065190,
     "sourceId": 7061304,
     "sourceType": "datasetVersion"
    }
   ],
   "dockerImageVersionId": 30588,
   "isGpuEnabled": true,
   "isInternetEnabled": false,
   "language": "python",
   "sourceType": "notebook"
  },
  "kernelspec": {
   "display_name": "Python 3",
   "language": "python",
   "name": "python3"
  },
  "language_info": {
   "codemirror_mode": {
    "name": "ipython",
    "version": 3
   },
   "file_extension": ".py",
   "mimetype": "text/x-python",
   "name": "python",
   "nbconvert_exporter": "python",
   "pygments_lexer": "ipython3",
   "version": "3.10.12"
  },
  "papermill": {
   "default_parameters": {},
   "duration": 5705.334827,
   "end_time": "2023-11-27T03:54:42.424458",
   "environment_variables": {},
   "exception": null,
   "input_path": "__notebook__.ipynb",
   "output_path": "__notebook__.ipynb",
   "parameters": {},
   "start_time": "2023-11-27T02:19:37.089631",
   "version": "2.4.0"
  }
 },
 "nbformat": 4,
 "nbformat_minor": 5
}
